{
 "cells": [
  {
   "cell_type": "markdown",
   "metadata": {},
   "source": [
    "# Project 1\n",
    "\n",
    "In this first project you will create a framework to scope out data science projects. This framework will provide you with a guide to develop a well-articulated problem statement and analysis plan that will be robust and reproducible."
   ]
  },
  {
   "cell_type": "markdown",
   "metadata": {},
   "source": [
    "### Read and evaluate the following problem statement: \n",
    "Determine which free-tier customers will covert to paying customers, using demographic data collected at signup (age, gender, location, and profession) and customer useage data (days since last log in, and activity score 1 = active user, 0= inactive user) based on Hooli data from Jan-Apr 2015. \n"
   ]
  },
  {
   "cell_type": "markdown",
   "metadata": {},
   "source": [
    "#### 1. What is the outcome?"
   ]
  },
  {
   "cell_type": "markdown",
   "metadata": {},
   "source": [
    "Answer: Paying Customer Conversion Indicator (Yes/No)"
   ]
  },
  {
   "cell_type": "markdown",
   "metadata": {},
   "source": [
    "#### 2. What are the predictors/covariates? "
   ]
  },
  {
   "cell_type": "markdown",
   "metadata": {},
   "source": [
    "Answer: age, gender, location, profession, days since last log in, and activity score"
   ]
  },
  {
   "cell_type": "markdown",
   "metadata": {},
   "source": [
    "#### 3. What timeframe is this data relevent for?"
   ]
  },
  {
   "cell_type": "markdown",
   "metadata": {},
   "source": [
    "Answer: Jan-Apr 2015"
   ]
  },
  {
   "cell_type": "markdown",
   "metadata": {},
   "source": [
    "#### 4. What is the hypothesis?"
   ]
  },
  {
   "cell_type": "markdown",
   "metadata": {},
   "source": [
    "Answer: Demographic and previous customer usage data will allow us to predict if a customer will become a paying customer."
   ]
  },
  {
   "cell_type": "markdown",
   "metadata": {},
   "source": [
    "## Let's get started with our dataset"
   ]
  },
  {
   "cell_type": "markdown",
   "metadata": {},
   "source": [
    "#### 1. Create a data dictionary "
   ]
  },
  {
   "cell_type": "markdown",
   "metadata": {},
   "source": [
    "\n",
    "Variable | Description |  Type of Variable\n",
    "---| ---| ---\n",
    "Admit | 1 - accepted 2 - rejected | categorical\n",
    "GPA | float | continuous \n",
    "GRE | integer | continuous \n",
    "Prestige| 1 - most prestige, 2 - prestige, 3 - less prestige, 4 - least prestige | categorical\n",
    "\n",
    "We would like to explore the association between Admit and the other three factors (GPA, GRE, and Prestige).\n"
   ]
  },
  {
   "cell_type": "markdown",
   "metadata": {},
   "source": [
    "#### 2. What is the outcome?"
   ]
  },
  {
   "cell_type": "markdown",
   "metadata": {},
   "source": [
    "Answer: Admission Indicator (Yes/No)"
   ]
  },
  {
   "cell_type": "markdown",
   "metadata": {},
   "source": [
    "#### 3. What are the predictors/covariates? "
   ]
  },
  {
   "cell_type": "markdown",
   "metadata": {},
   "source": [
    "Answer: GRE score, GPA, and applicant's undergraduate alma mater ranking"
   ]
  },
  {
   "cell_type": "markdown",
   "metadata": {},
   "source": [
    "#### 4. What timeframe is this data relevent for?"
   ]
  },
  {
   "cell_type": "markdown",
   "metadata": {},
   "source": [
    "Answer: Not specified in the dataset"
   ]
  },
  {
   "cell_type": "markdown",
   "metadata": {},
   "source": [
    "#### 4. What is the hypothesis?"
   ]
  },
  {
   "cell_type": "markdown",
   "metadata": {},
   "source": [
    "Answer: GPA, GRE score, and undergraduate school randing will allow us to determine whether the student should be accepted into UCLA's graduate school."
   ]
  },
  {
   "cell_type": "markdown",
   "metadata": {},
   "source": [
    "## Problem Statement\n",
    "\n",
    "\n",
    "Using UCLA admission dataset, determine how likely applicants are to be admitted to the graduate school program using application informaiton (GRE score, GPA, and applicant's undergraduate alma mater ranking)."
   ]
  },
  {
   "cell_type": "markdown",
   "metadata": {},
   "source": [
    "### Exploratory Analysis Plan"
   ]
  },
  {
   "cell_type": "markdown",
   "metadata": {},
   "source": [
    "Using the lab from a class as a guide, create an exploratory analysis plan. "
   ]
  },
  {
   "cell_type": "markdown",
   "metadata": {},
   "source": [
    "#### 1. What are the goals of the exploratory analysis? "
   ]
  },
  {
   "cell_type": "markdown",
   "metadata": {
    "collapsed": true
   },
   "source": [
    "Answer: \n",
    "1. Identify outliers and/or missing data\n",
    "2. Determine parameters and review statistical summary for each factor\n",
    "3. Estimate the robustness of conclusions and identify what's \"missing\" from the dataset\n",
    "4. Identify uncertainties for the assumption or estimations\n"
   ]
  },
  {
   "cell_type": "markdown",
   "metadata": {},
   "source": [
    "#### 2a. What are the assumptions of the distribution of data? "
   ]
  },
  {
   "cell_type": "markdown",
   "metadata": {},
   "source": [
    "Answer: \n",
    "1. One assumption is that candidate with higher GPA, GRE score, and higher ranking undergraduate school experience will have a higher change of being accepted to UCLA's graduate school.\n",
    "2. It is not clear when the data is collected for what time range and through what means. \n",
    "3. Different school might have different way calculating GPA and the GRE test score standard might also changed during the past years. These might impact the accuaracy of the data and the comprehensive representation of the study object. \n",
    "4. Undergraduate school outside of US might have a different ranking system based on the country the school is in. The ranking in this dataset might not be accurately reflecting the ranking for schools in the US with schools outside of US. \n",
    "5. International students also need to apply for visa sponsorship when applying for graduate program, which is also a key factor to determine the likelyhood for addmission. However, student background (domestic/international student) is not included in this dataset.\n",
    "6. UCLA graduate school has many programs and they have different admission requirement. The given dataset is very generic and does not specify the program name. The result might not be applicable for a specific program under UCLA graduate school."
   ]
  },
  {
   "cell_type": "markdown",
   "metadata": {},
   "source": [
    "#### 2b. How will determine the distribution of your data? "
   ]
  },
  {
   "cell_type": "markdown",
   "metadata": {
    "collapsed": true
   },
   "source": [
    "Answer: \n",
    "1. Turn the dataset into a dataframe and then use .describe() to review the summary statistic and understand each variables. \n",
    "2. Draw a boxplot to review the distribution for each variable and identify outliers.\n",
    "3. Create a histogram and see if the shape of the histogram resembles any of the widely known and used statistical distributions."
   ]
  },
  {
   "cell_type": "markdown",
   "metadata": {},
   "source": [
    "#### 3a. How might outliers impact your analysis? "
   ]
  },
  {
   "cell_type": "markdown",
   "metadata": {
    "collapsed": true
   },
   "source": [
    "Answer: Due to outliers, the dataset's median will change a little bit while the range/variance/standard deviation and the mean will increase significantly."
   ]
  },
  {
   "cell_type": "markdown",
   "metadata": {},
   "source": [
    "#### 3b. How will you test for outliers? "
   ]
  },
  {
   "cell_type": "markdown",
   "metadata": {},
   "source": [
    "Answer: We can draw a boxplot to identify the outliers (the points fall outside of the box range). If the dataset is similar to a normal distribution, we can review the ones fall outside of \"Mean +/- 2 * StandardDeviation\" and see if they're actually outliers or with valid reasons."
   ]
  },
  {
   "cell_type": "markdown",
   "metadata": {},
   "source": [
    "#### 4a. What is colinearity? "
   ]
  },
  {
   "cell_type": "markdown",
   "metadata": {
    "collapsed": true
   },
   "source": [
    "Answer:  Collinearity is a statistical phenomenon in which two or more predictor variables in a multiple regression model are highly correlated, meaning that one can be linearly predicted from the others with a non-trivial degree of accuracy, according to this [post](https://stats.stackexchange.com/questions/113733/what-is-the-difference-between-collinearity-and-interaction).\n",
    "\n",
    "In this case the collinearity represents how GRE score, GPA, and undergrad school ranking are correlated with the student UCLA graduate school admission result."
   ]
  },
  {
   "cell_type": "markdown",
   "metadata": {},
   "source": [
    "#### 4b. How will you test for colinearity? "
   ]
  },
  {
   "cell_type": "markdown",
   "metadata": {},
   "source": [
    "Answer: Run logistic regression model to identify the various factors (GPA, GRE, School Ranking) that may influence admission into graduate school. Before running actual model, first dummify categorical variable \"Prestige\"."
   ]
  },
  {
   "cell_type": "markdown",
   "metadata": {},
   "source": [
    "#### 5. What is your exploratory analysis plan?\n",
    "Using the above information, write an exploratory analysis plan that would allow you or a colleague to reproduce your analysis 1 year from now. "
   ]
  },
  {
   "cell_type": "markdown",
   "metadata": {},
   "source": [
    "Answer: \n",
    "0. Review dataset and create data dictionary\n",
    "1. Load dataset and convert it into a dataframe\n",
    "2. Import Panda, Numpy library\n",
    "3. Using panda describe, boxplot, and histogram to review summary statistics, data distribution, and outliers\n",
    "4. Create dummy variable for \"Prestige\"\n",
    "5. Perform regression model and interpret result"
   ]
  },
  {
   "cell_type": "markdown",
   "metadata": {},
   "source": [
    "## Bonus Questions:\n",
    "1. Outline your analysis method for predicting your outcome\n",
    "2. Write an alternative problem statement for your dataset\n",
    "3. Articulate the assumptions and risks of the alternative model\n",
    "\n",
    "#### Alternative problem statement:\n",
    "Using UCLA admission dataset (inlcuding GRE score, GPA, and applicant's undergraduate alma mater ranking), determine among those factors which one has the greatest impact on determining UCLA graducate school admission result."
   ]
  },
  {
   "cell_type": "markdown",
   "metadata": {},
   "source": [
    "#### Assumption or Risk:\n",
    "There could be other factors which are not included in the given dataset. Is it possible that based on given dataset the given factor has similar correlation with the admit result. It would be better if we could collect more student information such as admit program name, or international student vs. domestic studnet."
   ]
  },
  {
   "cell_type": "code",
   "execution_count": null,
   "metadata": {
    "collapsed": true
   },
   "outputs": [],
   "source": []
  }
 ],
 "metadata": {
  "kernelspec": {
   "display_name": "Python 2",
   "language": "python",
   "name": "python2"
  },
  "language_info": {
   "codemirror_mode": {
    "name": "ipython",
    "version": 2
   },
   "file_extension": ".py",
   "mimetype": "text/x-python",
   "name": "python",
   "nbconvert_exporter": "python",
   "pygments_lexer": "ipython2",
   "version": "2.7.13"
  }
 },
 "nbformat": 4,
 "nbformat_minor": 0
}
